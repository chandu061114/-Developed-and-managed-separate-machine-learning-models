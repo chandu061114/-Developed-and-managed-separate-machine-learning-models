{
 "cells": [
  {
   "cell_type": "code",
   "execution_count": null,
   "id": "bb244297",
   "metadata": {},
   "outputs": [],
   "source": [
    "import yfinance as yf\n",
    "import os\n",
    "\n",
    "# List of stock tickers\n",
    "stock_tickers = ['RELIANCE.NS', 'TCS.NS', 'HDFCBANK.NS', 'SBIN.NS', 'HINDUNILVR.NS', \n",
    "                 'ITC.NS', 'LT.NS', 'KOTAKBANK.NS', 'ONGC.NS', 'TATAMOTORS.NS']\n",
    "\n",
    "# Directory to save the datasets\n",
    "data_directory = 'datasets'\n",
    "\n",
    "# Create the directory if it doesn't exist\n",
    "os.makedirs(data_directory, exist_ok=True)\n",
    "\n",
    "# Download and save data for each stock\n",
    "for ticker in stock_tickers:\n",
    "    # Get stock name from ticker\n",
    "    stock_name = yf.Ticker(ticker).info['longName']\n",
    "    # Replace special characters in the stock name to avoid file naming issues\n",
    "    stock_name = stock_name.replace('/', '_').replace('.', '_').replace(' ', '_')\n",
    "    # Download historical data\n",
    "    stock_data = yf.download(ticker, start='2000-01-01', end='2024-12-31')\n",
    "    # Save data to CSV file\n",
    "    file_path = os.path.join(data_directory, f'{stock_name}.csv')\n",
    "    stock_data.to_csv(file_path)\n",
    "    print(f'Data for {stock_name} saved successfully.')\n"
   ]
  }
 ],
 "metadata": {
  "kernelspec": {
   "display_name": "Python 3 (ipykernel)",
   "language": "python",
   "name": "python3"
  },
  "language_info": {
   "codemirror_mode": {
    "name": "ipython",
    "version": 3
   },
   "file_extension": ".py",
   "mimetype": "text/x-python",
   "name": "python",
   "nbconvert_exporter": "python",
   "pygments_lexer": "ipython3",
   "version": "3.10.8"
  }
 },
 "nbformat": 4,
 "nbformat_minor": 5
}
